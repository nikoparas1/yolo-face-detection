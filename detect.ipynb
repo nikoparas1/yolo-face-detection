{
 "cells": [
  {
   "cell_type": "markdown",
   "id": "ec94db69",
   "metadata": {},
   "source": [
    "## Install necessary dependencies"
   ]
  },
  {
   "cell_type": "code",
   "execution_count": null,
   "id": "f9f6d759",
   "metadata": {},
   "outputs": [],
   "source": [
    "%pip install ultralytics opencv-python"
   ]
  },
  {
   "cell_type": "markdown",
   "id": "160c9f2b",
   "metadata": {},
   "source": [
    "## Import packages and configurations"
   ]
  },
  {
   "cell_type": "code",
   "execution_count": null,
   "id": "1fcc482d",
   "metadata": {},
   "outputs": [],
   "source": [
    "from ultralytics import YOLO\n",
    "import glob\n",
    "import cv2\n",
    "import os\n",
    "\n",
    "MODEL_PATH = \"models/yolov12n-face.pt\"\n",
    "INPUT_DIR = \"images/train\"\n",
    "OUTPUT_DIR = \"images/annotated\"\n",
    "IMG_SIZE = 128\n",
    "CONF_THRESHOLD = 0.25\n",
    "\n",
    "os.makedirs(OUTPUT_DIR, exist_ok=True)\n",
    "\n",
    "model = YOLO(MODEL_PATH)"
   ]
  },
  {
   "cell_type": "markdown",
   "id": "ac7e5440",
   "metadata": {},
   "source": [
    "## Run inference against training set"
   ]
  },
  {
   "cell_type": "code",
   "execution_count": null,
   "id": "20ee71fc",
   "metadata": {},
   "outputs": [],
   "source": [
    "for img_path in glob.glob(os.path.join(INPUT_DIR, \"*.jpg\")):\n",
    "    img = cv2.imread(img_path)\n",
    "    if img is None:\n",
    "        print(f\"⚠️  Could not read {img_path}, skipping.\")\n",
    "        continue\n",
    "\n",
    "    results = model(img, imgsz=IMG_SIZE, conf=CONF_THRESHOLD)\n",
    "    res = results[0]\n",
    "\n",
    "    annotated = img.copy()\n",
    "    if res.boxes is not None and len(res.boxes) > 0:\n",
    "        boxes = res.boxes.xyxy.cpu().numpy()\n",
    "        confs = res.boxes.conf.cpu().numpy()\n",
    "\n",
    "        for (x1, y1, x2, y2), conf in zip(boxes, confs):\n",
    "            p1 = (int(x1), int(y1))\n",
    "            p2 = (int(x2), int(y2))\n",
    "            cv2.rectangle(annotated, p1, p2, (0, 255, 0), 2)\n",
    "            cv2.putText(\n",
    "                annotated,\n",
    "                f\"{conf:0.2f}\",\n",
    "                (p1[0], p1[1] - 10),\n",
    "                cv2.FONT_HERSHEY_SIMPLEX,\n",
    "                0.5,\n",
    "                (0, 255, 0),\n",
    "                1,\n",
    "                lineType=cv2.LINE_AA,\n",
    "            )\n",
    "\n",
    "    out_path = os.path.join(OUTPUT_DIR, os.path.basename(img_path))\n",
    "    cv2.imwrite(out_path, annotated)\n",
    "    num_faces = len(res.boxes) if res.boxes is not None else 0\n",
    "    print(f\"✅ {os.path.basename(img_path)} → {num_faces} face(s), saved to {out_path}\")"
   ]
  }
 ],
 "metadata": {
  "kernelspec": {
   "display_name": "Python 3",
   "language": "python",
   "name": "python3"
  },
  "language_info": {
   "codemirror_mode": {
    "name": "ipython",
    "version": 3
   },
   "file_extension": ".py",
   "mimetype": "text/x-python",
   "name": "python",
   "nbconvert_exporter": "python",
   "pygments_lexer": "ipython3",
   "version": "3.12.4"
  }
 },
 "nbformat": 4,
 "nbformat_minor": 5
}
