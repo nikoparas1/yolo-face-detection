{
 "cells": [
  {
   "cell_type": "markdown",
   "id": "20b319e7",
   "metadata": {},
   "source": [
    "## Install necessary dependencies"
   ]
  },
  {
   "cell_type": "code",
   "execution_count": null,
   "id": "9d837894",
   "metadata": {},
   "outputs": [],
   "source": [
    "%pip install ultralytics"
   ]
  },
  {
   "cell_type": "markdown",
   "id": "f58684fa",
   "metadata": {},
   "source": [
    "## Import packages & export model"
   ]
  },
  {
   "cell_type": "code",
   "execution_count": null,
   "id": "abbd250a",
   "metadata": {},
   "outputs": [],
   "source": [
    "from ultralytics import YOLO\n",
    "\n",
    "model = YOLO(\"models/yolov12n-face.pt\")\n",
    "\n",
    "model.export(format=\"coreml\", nms=True, imgsz=128)"
   ]
  }
 ],
 "metadata": {
  "kernelspec": {
   "display_name": "Python 3",
   "language": "python",
   "name": "python3"
  },
  "language_info": {
   "codemirror_mode": {
    "name": "ipython",
    "version": 3
   },
   "file_extension": ".py",
   "mimetype": "text/x-python",
   "name": "python",
   "nbconvert_exporter": "python",
   "pygments_lexer": "ipython3",
   "version": "3.12.4"
  }
 },
 "nbformat": 4,
 "nbformat_minor": 5
}
